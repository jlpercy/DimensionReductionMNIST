{
 "cells": [
  {
   "cell_type": "markdown",
   "id": "87873fe4-bbd6-4a0e-b3b2-406b4f996f2e",
   "metadata": {},
   "source": [
    "# __Singular Value Decomposition of the MNIST Dataset__\n",
    "### __Import Packages__"
   ]
  },
  {
   "cell_type": "code",
   "execution_count": 1,
   "id": "37218a8f-1590-40c4-8e6f-5ce3031b6b18",
   "metadata": {},
   "outputs": [],
   "source": [
    "import numpy as np\n",
    "import matplotlib.pyplot as plt\n",
    "from keras.datasets import mnist\n",
    "import pandas as pd"
   ]
  },
  {
   "cell_type": "code",
   "execution_count": 2,
   "id": "7871ac56-becd-4440-bb57-60ad21fca238",
   "metadata": {},
   "outputs": [],
   "source": [
    "# Plotting functions\n",
    "def plot(data, n_plots, title=\"Singular Values\", xlabel=\"Index\", ylabel=\"Value\", digit_form=False, reconstruct=False, U=None, E=None, V_t=None):\n",
    "    if digit_form:\n",
    "        fig, axes = plt.subplots(1, n_plots, figsize=(n_plots, 1))\n",
    "\n",
    "        for i in range(n_plots):\n",
    "            ax = axes[i]\n",
    "            ax.imshow(data[i].reshape(28, 28), cmap='gray')\n",
    "            ax.axis('off')\n",
    "\n",
    "        plt.show()\n",
    "        return\n",
    "\n",
    "    if reconstruct:\n",
    "        singular_values = [1, 5, 50, 100, 300, 500, 784]\n",
    "        fig, subplots = plt.subplots(1, len(singular_values),  figsize=(len(singular_values) * 2, 2))\n",
    "        for i in range(len(singular_values)):\n",
    "            curr_plot = subplots[i]\n",
    "            \n",
    "            # Take the first k singular values and vectors\n",
    "            U_k = U[:, :singular_values[i]]\n",
    "            E_k = np.diag(E[:singular_values[i]])\n",
    "            V_k = V_t[:singular_values[i], :]\n",
    "\n",
    "            # Reconstruct the data\n",
    "            reconstructed_data = np.dot(U_k, np.dot(E_k, V_k))\n",
    "            curr_plot.imshow(reconstructed_data[0].reshape(28, 28), cmap='gray')\n",
    "            curr_plot.set_title(f\"{singular_values[i]} Values\", loc=\"center\")\n",
    "        plt.tight_layout()\n",
    "        return\n",
    "\n",
    "    if n_plots == 1:\n",
    "        # Plotting the value vs index of the singular values\n",
    "        plt.figure(figsize=(10, 5))\n",
    "        plt.plot(range(len(data)), data, marker='.', linestyle='-')\n",
    "        plt.title(title + \" Linear Plot\")\n",
    "        plt.xlabel(xlabel)\n",
    "        plt.ylabel(ylabel)\n",
    "        plt.grid(True)\n",
    "        plt.show()\n",
    "        return\n",
    "\n",
    "    elif n_plots == 2:\n",
    "        # Plot linear and semi-log\n",
    "        fig, (graph_1, graph_2) = plt.subplots(1, n_plots, figsize=(20, 5))\n",
    "\n",
    "        # linear\n",
    "        graph_1.plot(range(len(data)), data, marker='o', linestyle='-')\n",
    "        graph_1.set_title(title + \" Linear Plot\")\n",
    "        graph_1.set_xlabel(xlabel)\n",
    "        graph_1.set_ylabel(ylabel)\n",
    "\n",
    "        # semi-log\n",
    "        graph_2.semilogy(range(len(data)), data, marker='o', linestyle='-')\n",
    "        graph_2.set_title(title + \" Semi-Log Plot\")\n",
    "        graph_2.set_xlabel(xlabel)\n",
    "        graph_2.set_ylabel(ylabel)\n",
    "        plt.tight_layout()\n",
    "        plt.show()\n",
    "        return\n",
    "        \n",
    "    else:\n",
    "        return 'invalid'"
   ]
  },
  {
   "cell_type": "markdown",
   "id": "f8c53819-16a6-48cd-9b47-9289bb38e118",
   "metadata": {},
   "source": [
    "### __Import dataset__"
   ]
  },
  {
   "cell_type": "code",
   "execution_count": 3,
   "id": "ac1562f0-8778-470f-9a88-36beb0048cb7",
   "metadata": {},
   "outputs": [
    {
     "name": "stdout",
     "output_type": "stream",
     "text": [
      "(1, 784)\n"
     ]
    }
   ],
   "source": [
    "(x_train, _), (x_test, _) = mnist.load_data()\n",
    "\n",
    "n_train, _, _ = x_train.shape\n",
    "n_test, _, _ = x_test.shape\n",
    "\n",
    "# Transform into row vectors\n",
    "x_train_reshaped = x_train.reshape(n_train, -1)[:1, :]\n",
    "data = x_train_reshaped\n",
    "print(data.shape)"
   ]
  },
  {
   "cell_type": "markdown",
   "id": "8c86cfcf-46b6-4273-82ec-fae5ca8dfd1e",
   "metadata": {},
   "source": [
    "### __Plot the Initial Digits__"
   ]
  },
  {
   "cell_type": "code",
   "execution_count": 4,
   "id": "b5ac09a2-1300-4193-8e30-7a6ff447585e",
   "metadata": {},
   "outputs": [
    {
     "ename": "NameError",
     "evalue": "name 'data_row_vectors' is not defined",
     "output_type": "error",
     "traceback": [
      "\u001b[0;31m---------------------------------------------------------------------------\u001b[0m",
      "\u001b[0;31mNameError\u001b[0m                                 Traceback (most recent call last)",
      "Cell \u001b[0;32mIn[4], line 1\u001b[0m\n\u001b[0;32m----> 1\u001b[0m plot(data\u001b[39m=\u001b[39mdata_row_vectors, n_plots\u001b[39m=\u001b[39m\u001b[39m10\u001b[39m, digit_form\u001b[39m=\u001b[39m\u001b[39mTrue\u001b[39;00m)\n",
      "\u001b[0;31mNameError\u001b[0m: name 'data_row_vectors' is not defined"
     ]
    }
   ],
   "source": [
    "plot(data=data_row_vectors, n_plots=10, digit_form=True)"
   ]
  },
  {
   "cell_type": "markdown",
   "id": "e8a31dff-a032-414c-917c-ee07bbf4218f",
   "metadata": {},
   "source": [
    "### __SVD on Row Vectors__"
   ]
  },
  {
   "cell_type": "code",
   "execution_count": 6,
   "id": "e2230fba-56d6-4616-ac56-8b2feb829aa0",
   "metadata": {},
   "outputs": [
    {
     "name": "stdout",
     "output_type": "stream",
     "text": [
      "U shape:  (70000, 784)\n",
      "E shape:  (784,)\n",
      "Vt shape:  (784, 784)\n"
     ]
    }
   ],
   "source": [
    "U, E, Vt = np.linalg.svd(data_row_vectors, full_matrices=False)\n",
    "\n",
    "print('U shape: ', U.shape)\n",
    "print('E shape: ', E.shape)\n",
    "print('Vt shape: ', Vt.shape)"
   ]
  },
  {
   "cell_type": "markdown",
   "id": "1177f72d-ca67-4d84-ae11-b91141afe57e",
   "metadata": {},
   "source": [
    "### __Plotting Singular Values__"
   ]
  },
  {
   "cell_type": "code",
   "execution_count": null,
   "id": "d3f4ab11-8381-46b7-9d5c-ca0d03bac19c",
   "metadata": {},
   "outputs": [],
   "source": [
    "plot(data=E, n_plots=1)"
   ]
  },
  {
   "cell_type": "markdown",
   "id": "8227a0e3-9cc6-4702-bed2-737dfd2a8c22",
   "metadata": {},
   "source": [
    "#### The graph (linear scale) shows a very sharp initial decrease but flattens out after a few hundred values"
   ]
  },
  {
   "cell_type": "markdown",
   "id": "61ddcb96-e623-4a19-b499-378db43e310c",
   "metadata": {},
   "source": [
    "### __Comparing the SVD Dimension-Reduced Images__"
   ]
  },
  {
   "cell_type": "code",
   "execution_count": null,
   "id": "55363f33-dcba-42bb-a568-8719111a4cba",
   "metadata": {},
   "outputs": [],
   "source": [
    "plot(data=data_row_vectors, n_plots=-1, digit_form=False, reconstruct=True, U=U, E=E, V_t=Vt)"
   ]
  },
  {
   "cell_type": "code",
   "execution_count": null,
   "id": "5ddf6cb0-917a-4aa0-b87e-137e0cf08766",
   "metadata": {},
   "outputs": [],
   "source": [
    "plot(data=E, n_plots=2)"
   ]
  },
  {
   "cell_type": "markdown",
   "id": "eda4b6cb-a5fd-459e-b781-708dd800150d",
   "metadata": {},
   "source": [
    "#### The semi-log graph shows a very steep drop off around the 700th index"
   ]
  },
  {
   "cell_type": "markdown",
   "id": "bcd77ef6-3a0a-4ed9-ba11-25322304b2dd",
   "metadata": {},
   "source": [
    "### __Translating to Center of Image Frame__"
   ]
  },
  {
   "cell_type": "code",
   "execution_count": null,
   "id": "0e1ed907-6cc9-40d8-bba9-da26efd9481b",
   "metadata": {},
   "outputs": [],
   "source": [
    "# Get width and height of images\n",
    "width = x_train.shape[1]\n",
    "height = x_train.shape[1]\n",
    "print('image width: ', width)\n",
    "print('image height: ', height)"
   ]
  },
  {
   "cell_type": "code",
   "execution_count": 9,
   "id": "80575569-ab2f-4344-97d0-4246d8764845",
   "metadata": {},
   "outputs": [
    {
     "name": "stdout",
     "output_type": "stream",
     "text": [
      "(784,)\n",
      "[0.00000000e+00 0.00000000e+00 0.00000000e+00 0.00000000e+00\n",
      " 0.00000000e+00 0.00000000e+00 0.00000000e+00 0.00000000e+00\n",
      " 0.00000000e+00 0.00000000e+00 0.00000000e+00 0.00000000e+00\n",
      " 1.80000000e-03 6.71428571e-03 3.08571429e-03 1.28571429e-04\n",
      " 0.00000000e+00 0.00000000e+00 0.00000000e+00 0.00000000e+00\n",
      " 0.00000000e+00 0.00000000e+00 0.00000000e+00 0.00000000e+00\n",
      " 0.00000000e+00 0.00000000e+00 0.00000000e+00 0.00000000e+00\n",
      " 0.00000000e+00 0.00000000e+00 0.00000000e+00 0.00000000e+00\n",
      " 2.28571429e-04 1.32857143e-03 1.13285714e-02 2.30714286e-02\n",
      " 4.32285714e-02 6.22428571e-02 1.17928571e-01 1.71242857e-01\n",
      " 1.93414286e-01 1.90085714e-01 2.06285714e-01 1.82742857e-01\n",
      " 1.70100000e-01 1.44514286e-01 9.92428571e-02 6.82285714e-02\n",
      " 4.88714286e-02 1.83142857e-02 8.64285714e-03 3.02857143e-03\n",
      " 0.00000000e+00 0.00000000e+00 0.00000000e+00 0.00000000e+00\n",
      " 0.00000000e+00 0.00000000e+00 9.14285714e-04 6.00000000e-04\n",
      " 5.95714286e-03 1.09428571e-02 5.63000000e-02 1.39385714e-01\n",
      " 2.68228571e-01 5.20985714e-01 9.16628571e-01 1.41252857e+00\n",
      " 2.00552857e+00 2.64478571e+00 3.29485714e+00 3.65821429e+00\n",
      " 3.68871429e+00 3.30264286e+00 2.70457143e+00 1.97178571e+00\n",
      " 1.17471429e+00 6.07971429e-01 2.86385714e-01 9.18285714e-02\n",
      " 3.02571429e-02 7.40000000e-03 0.00000000e+00 0.00000000e+00\n",
      " 0.00000000e+00 0.00000000e+00 2.77142857e-03 5.01428571e-03\n",
      " 1.32142857e-02 7.02571429e-02 2.18828571e-01 5.49157143e-01\n",
      " 1.17328571e+00 2.27045714e+00 3.78197143e+00 5.64678571e+00\n",
      " 7.68885714e+00 9.94882857e+00 1.19869571e+01 1.32302857e+01\n",
      " 1.29729429e+01 1.15404143e+01 9.30114286e+00 6.67485714e+00\n",
      " 4.08620000e+00 2.20957143e+00 1.06014286e+00 4.15557143e-01\n",
      " 1.57928571e-01 3.02428571e-02 4.72857143e-03 0.00000000e+00\n",
      " 0.00000000e+00 5.42857143e-04 4.47142857e-03 1.49857143e-02\n",
      " 8.39714286e-02 3.82428571e-01 1.03394286e+00 2.43491429e+00\n",
      " 4.81337143e+00 8.54428571e+00 1.36060571e+01 1.99866429e+01\n",
      " 2.76048000e+01 3.57442857e+01 4.23966857e+01 4.56407143e+01\n",
      " 4.44056143e+01 3.89493857e+01 3.09315857e+01 2.26060143e+01\n",
      " 1.46565571e+01 8.55550000e+00 4.52572857e+00 2.13450000e+00\n",
      " 8.53200000e-01 2.06828571e-01 3.72142857e-02 1.74285714e-03\n",
      " 0.00000000e+00 3.42857143e-04 9.04285714e-03 5.93714286e-02\n",
      " 4.07242857e-01 1.45882857e+00 3.59560000e+00 7.23760000e+00\n",
      " 1.30355857e+01 2.14101286e+01 3.20201714e+01 4.49681571e+01\n",
      " 5.96062714e+01 7.44050429e+01 8.56439143e+01 9.09913286e+01\n",
      " 8.91048857e+01 8.01986857e+01 6.57740429e+01 4.95821857e+01\n",
      " 3.41949571e+01 2.13574000e+01 1.23412429e+01 6.57651429e+00\n",
      " 2.97144286e+00 8.32585714e-01 1.53900000e-01 4.02857143e-03\n",
      " 0.00000000e+00 1.57142857e-04 2.41285714e-02 2.26242857e-01\n",
      " 1.15320000e+00 3.30281429e+00 7.40001429e+00 1.42323000e+01\n",
      " 2.42067286e+01 3.75957857e+01 5.36680571e+01 7.16451286e+01\n",
      " 9.00152000e+01 1.06811429e+02 1.19065643e+02 1.24554086e+02\n",
      " 1.21849714e+02 1.12013843e+02 9.59671571e+01 7.49559286e+01\n",
      " 5.38257286e+01 3.50498857e+01 2.08035286e+01 1.12720000e+01\n",
      " 5.36882857e+00 1.83650000e+00 3.77257143e-01 3.13571429e-02\n",
      " 6.71428571e-04 1.91000000e-02 1.08900000e-01 6.15100000e-01\n",
      " 2.36178571e+00 5.94055714e+00 1.23529857e+01 2.24109429e+01\n",
      " 3.64677714e+01 5.43526286e+01 7.44425143e+01 9.49390143e+01\n",
      " 1.12270800e+02 1.25425857e+02 1.33090214e+02 1.35574757e+02\n",
      " 1.33352000e+02 1.26664214e+02 1.13501929e+02 9.36361429e+01\n",
      " 6.94776571e+01 4.64880714e+01 2.77813571e+01 1.49903000e+01\n",
      " 6.97447143e+00 2.57665714e+00 5.14928571e-01 3.14000000e-02\n",
      " 3.48571429e-03 5.29285714e-02 3.33014286e-01 1.30144286e+00\n",
      " 3.74400000e+00 8.44680000e+00 1.66850714e+01 2.95129714e+01\n",
      " 4.72817429e+01 6.89055000e+01 9.13976429e+01 1.09353214e+02\n",
      " 1.19802257e+02 1.23404543e+02 1.23072843e+02 1.22347529e+02\n",
      " 1.22782386e+02 1.22405114e+02 1.16441957e+02 1.00601371e+02\n",
      " 7.69929857e+01 5.24062714e+01 3.13826286e+01 1.61331857e+01\n",
      " 7.15450000e+00 2.63560000e+00 5.16842857e-01 2.99000000e-02\n",
      " 6.44285714e-03 9.06000000e-02 5.09185714e-01 1.71107143e+00\n",
      " 4.42017143e+00 9.72242857e+00 1.93498143e+01 3.43919429e+01\n",
      " 5.51734429e+01 7.92916286e+01 1.00287971e+02 1.11207129e+02\n",
      " 1.10670043e+02 1.04153957e+02 9.89987286e+01 9.93770286e+01\n",
      " 1.04435757e+02 1.11253686e+02 1.11375943e+02 9.90871571e+01\n",
      " 7.66997571e+01 5.22337571e+01 3.10946714e+01 1.52394143e+01\n",
      " 5.96902857e+00 1.91832857e+00 3.76857143e-01 3.20714286e-02\n",
      " 9.75714286e-03 1.01114286e-01 5.14414286e-01 1.64634286e+00\n",
      " 4.21768571e+00 9.71215714e+00 2.03145857e+01 3.71331143e+01\n",
      " 6.03109714e+01 8.46400714e+01 1.01302071e+02 1.03417343e+02\n",
      " 9.33731714e+01 8.25742143e+01 7.94767571e+01 8.45277429e+01\n",
      " 9.39562857e+01 1.04915014e+02 1.06661257e+02 9.41565571e+01\n",
      " 7.15387143e+01 4.79056571e+01 2.82565714e+01 1.34422143e+01\n",
      " 4.62672857e+00 1.14280000e+00 2.40042857e-01 2.55142857e-02\n",
      " 5.62857143e-03 7.43857143e-02 4.10557143e-01 1.24351429e+00\n",
      " 3.53184286e+00 9.38780000e+00 2.09720429e+01 3.99925714e+01\n",
      " 6.48644714e+01 8.83467429e+01 9.95999429e+01 9.48271286e+01\n",
      " 8.11697000e+01 7.31336000e+01 7.61444000e+01 8.56224429e+01\n",
      " 9.75428429e+01 1.07913486e+02 1.05793800e+02 8.89487429e+01\n",
      " 6.47412571e+01 4.22805857e+01 2.52475571e+01 1.25769571e+01\n",
      " 4.06121429e+00 6.14971429e-01 1.35200000e-01 9.88571429e-03\n",
      " 3.25714286e-03 4.37714286e-02 2.38485714e-01 8.43928571e-01\n",
      " 2.97595714e+00 9.49390000e+00 2.27812857e+01 4.38893857e+01\n",
      " 6.97125571e+01 9.09829571e+01 9.83084286e+01 9.08928286e+01\n",
      " 7.93763143e+01 7.92655571e+01 8.94735571e+01 1.02014571e+02\n",
      " 1.13366457e+02 1.17950100e+02 1.07651000e+02 8.44303857e+01\n",
      " 5.84962714e+01 3.81626286e+01 2.37678857e+01 1.27532143e+01\n",
      " 4.35974286e+00 4.63514286e-01 7.38857143e-02 8.71428571e-03\n",
      " 4.57142857e-04 1.82714286e-02 1.19914286e-01 5.85657143e-01\n",
      " 2.83580000e+00 1.05778286e+01 2.56120429e+01 4.78820429e+01\n",
      " 7.31200286e+01 9.19728429e+01 9.69049571e+01 9.08655571e+01\n",
      " 8.65168714e+01 9.68816714e+01 1.11705271e+02 1.24448857e+02\n",
      " 1.30234886e+02 1.26941571e+02 1.09038929e+02 8.11237714e+01\n",
      " 5.52598571e+01 3.72170429e+01 2.40748429e+01 1.36733857e+01\n",
      " 5.11337143e+00 5.89757143e-01 7.49142857e-02 9.31428571e-03\n",
      " 1.61428571e-03 7.07142857e-03 5.27142857e-02 4.48371429e-01\n",
      " 2.99610000e+00 1.23062143e+01 2.84749286e+01 5.06434286e+01\n",
      " 7.39576143e+01 9.04295429e+01 9.48797143e+01 9.30421429e+01\n",
      " 9.75321000e+01 1.15549857e+02 1.30611243e+02 1.40015057e+02\n",
      " 1.37569329e+02 1.28334171e+02 1.07176300e+02 7.94751143e+01\n",
      " 5.60710143e+01 3.90111571e+01 2.55840571e+01 1.46776286e+01\n",
      " 5.71464286e+00 8.18157143e-01 8.45571429e-02 1.90000000e-03\n",
      " 6.28571429e-04 3.31428571e-03 4.50285714e-02 4.81928571e-01\n",
      " 3.50718571e+00 1.43023000e+01 3.07585000e+01 5.10997857e+01\n",
      " 7.14513714e+01 8.56663571e+01 9.11999857e+01 9.40581000e+01\n",
      " 1.05060429e+02 1.23527286e+02 1.36040529e+02 1.39657671e+02\n",
      " 1.32385214e+02 1.21879214e+02 1.01601029e+02 7.84246857e+01\n",
      " 5.83193857e+01 4.13700714e+01 2.69959429e+01 1.49391857e+01\n",
      " 5.81225714e+00 1.06701429e+00 1.36114286e-01 1.02428571e-02\n",
      " 5.71428571e-04 4.07142857e-03 7.99714286e-02 6.02600000e-01\n",
      " 4.40000000e+00 1.63358571e+01 3.22045429e+01 4.97296857e+01\n",
      " 6.63000286e+01 7.78500571e+01 8.36318286e+01 8.92913714e+01\n",
      " 1.01169300e+02 1.16132114e+02 1.26705129e+02 1.27801143e+02\n",
      " 1.21675486e+02 1.11911200e+02 9.58482000e+01 7.77192571e+01\n",
      " 5.99593286e+01 4.21979286e+01 2.67453714e+01 1.41943286e+01\n",
      " 5.54860000e+00 1.25378571e+00 1.75757143e-01 1.35428571e-02\n",
      " 0.00000000e+00 6.24285714e-03 1.16628571e-01 9.33800000e-01\n",
      " 5.84435714e+00 1.82819429e+01 3.31118143e+01 4.79437143e+01\n",
      " 6.05770714e+01 6.95103000e+01 7.48849286e+01 8.07448714e+01\n",
      " 8.96782429e+01 1.02086143e+02 1.12659086e+02 1.15705043e+02\n",
      " 1.12894343e+02 1.05562729e+02 9.34773571e+01 7.80153429e+01\n",
      " 5.98552143e+01 4.10272857e+01 2.49753857e+01 1.27491714e+01\n",
      " 5.05257143e+00 1.35464286e+00 1.88414286e-01 1.10428571e-02\n",
      " 1.62857143e-03 6.35714286e-03 1.84357143e-01 1.50685714e+00\n",
      " 7.47375714e+00 2.01555000e+01 3.46635143e+01 4.81302286e+01\n",
      " 5.85132000e+01 6.62509429e+01 7.19400571e+01 7.67396286e+01\n",
      " 8.31951143e+01 9.51383286e+01 1.06620971e+02 1.12624500e+02\n",
      " 1.12198343e+02 1.06124000e+02 9.46515143e+01 7.76198857e+01\n",
      " 5.72647143e+01 3.79166571e+01 2.24532429e+01 1.12018857e+01\n",
      " 4.45288571e+00 1.26541429e+00 1.53714286e-01 1.18857143e-02\n",
      " 2.14285714e-04 1.40857143e-02 2.76385714e-01 2.03415714e+00\n",
      " 8.55777143e+00 2.14706429e+01 3.66253143e+01 5.09292714e+01\n",
      " 6.25345000e+01 7.15241571e+01 7.82342857e+01 8.30097429e+01\n",
      " 9.00593571e+01 1.01420414e+02 1.12753900e+02 1.18396843e+02\n",
      " 1.16969714e+02 1.08506329e+02 9.33687000e+01 7.27569857e+01\n",
      " 5.12215000e+01 3.27052143e+01 1.86238286e+01 9.00827143e+00\n",
      " 3.57512857e+00 1.05584286e+00 1.43400000e-01 6.14285714e-03\n",
      " 0.00000000e+00 1.36000000e-02 3.22671429e-01 2.24005714e+00\n",
      " 8.35155714e+00 2.04351714e+01 3.67919000e+01 5.35906571e+01\n",
      " 6.87975000e+01 8.12644571e+01 9.07734714e+01 9.82562429e+01\n",
      " 1.06907471e+02 1.17463200e+02 1.25511000e+02 1.26435357e+02\n",
      " 1.19344114e+02 1.04867943e+02 8.46968714e+01 6.17324714e+01\n",
      " 4.10615000e+01 2.48212286e+01 1.34745286e+01 6.42164286e+00\n",
      " 2.65547143e+00 7.35085714e-01 1.08471429e-01 1.44285714e-03\n",
      " 4.57142857e-04 1.08857143e-02 2.80757143e-01 1.84667143e+00\n",
      " 6.55040000e+00 1.67057571e+01 3.24997286e+01 5.12911571e+01\n",
      " 7.01989571e+01 8.72423714e+01 1.01230871e+02 1.12785371e+02\n",
      " 1.22817729e+02 1.30800429e+02 1.32720214e+02 1.25927271e+02\n",
      " 1.11035371e+02 9.02714143e+01 6.70036714e+01 4.56081286e+01\n",
      " 2.83954286e+01 1.60718000e+01 8.33725714e+00 4.02740000e+00\n",
      " 1.65982857e+00 4.17800000e-01 5.81000000e-02 5.57142857e-04\n",
      " 4.42857143e-04 8.42857143e-04 1.74957143e-01 1.08547143e+00\n",
      " 3.89550000e+00 1.07317000e+01 2.30908429e+01 4.02989714e+01\n",
      " 6.06428143e+01 8.08794429e+01 9.90772857e+01 1.13185686e+02\n",
      " 1.22578471e+02 1.25742100e+02 1.21505157e+02 1.08130857e+02\n",
      " 8.85262143e+01 6.63476143e+01 4.54774286e+01 2.86020714e+01\n",
      " 1.66468571e+01 8.94297143e+00 4.56314286e+00 2.15510000e+00\n",
      " 8.17885714e-01 1.90000000e-01 1.76857143e-02 1.02857143e-03\n",
      " 0.00000000e+00 3.42857143e-04 5.96428571e-02 4.10442857e-01\n",
      " 1.69764286e+00 4.94587143e+00 1.18314714e+01 2.36511143e+01\n",
      " 3.99285571e+01 5.85194000e+01 7.70039000e+01 9.18521571e+01\n",
      " 9.98357000e+01 9.95923286e+01 9.13644571e+01 7.63853857e+01\n",
      " 5.81613143e+01 4.04515000e+01 2.55969714e+01 1.50799571e+01\n",
      " 8.34447143e+00 4.28148571e+00 2.12807143e+00 9.45657143e-01\n",
      " 2.95600000e-01 6.19000000e-02 8.25714286e-03 0.00000000e+00\n",
      " 0.00000000e+00 0.00000000e+00 1.35857143e-02 1.17157143e-01\n",
      " 5.26828571e-01 1.56675714e+00 4.08668571e+00 8.95498571e+00\n",
      " 1.66191286e+01 2.67202429e+01 3.76542143e+01 4.65419286e+01\n",
      " 5.13708286e+01 5.10167143e+01 4.58537571e+01 3.73099714e+01\n",
      " 2.79176857e+01 1.93106000e+01 1.21006429e+01 7.12611429e+00\n",
      " 3.88375714e+00 1.90244286e+00 8.97542857e-01 3.70771429e-01\n",
      " 9.13857143e-02 1.90714286e-02 1.65714286e-03 0.00000000e+00\n",
      " 0.00000000e+00 0.00000000e+00 1.34285714e-03 1.57571429e-02\n",
      " 1.28428571e-01 4.67185714e-01 1.36767143e+00 3.11694286e+00\n",
      " 6.04735714e+00 9.69648571e+00 1.36407429e+01 1.65933714e+01\n",
      " 1.80925429e+01 1.79103286e+01 1.61028714e+01 1.34028286e+01\n",
      " 1.06634857e+01 7.81794286e+00 5.13157143e+00 3.08640000e+00\n",
      " 1.65110000e+00 7.95000000e-01 3.55142857e-01 1.32642857e-01\n",
      " 3.00571429e-02 4.02857143e-03 1.48571429e-03 0.00000000e+00\n",
      " 0.00000000e+00 0.00000000e+00 0.00000000e+00 5.42857143e-04\n",
      " 3.10571429e-02 1.57800000e-01 5.28171429e-01 1.17840000e+00\n",
      " 2.26452857e+00 3.44234286e+00 4.72985714e+00 5.88050000e+00\n",
      " 6.42045714e+00 6.30375714e+00 5.64740000e+00 4.50951429e+00\n",
      " 3.57252857e+00 2.59792857e+00 1.65961429e+00 9.92457143e-01\n",
      " 5.41814286e-01 2.45642857e-01 8.09571429e-02 2.10000000e-02\n",
      " 8.28571429e-04 8.42857143e-04 0.00000000e+00 0.00000000e+00\n",
      " 0.00000000e+00 0.00000000e+00 0.00000000e+00 0.00000000e+00\n",
      " 2.17142857e-03 1.33571429e-02 3.60000000e-02 8.26714286e-02\n",
      " 1.22585714e-01 1.87657143e-01 3.10871429e-01 3.94871429e-01\n",
      " 4.95457143e-01 5.71071429e-01 6.69500000e-01 5.89571429e-01\n",
      " 4.79228571e-01 3.33600000e-01 1.97414286e-01 9.95428571e-02\n",
      " 4.66285714e-02 1.66142857e-02 1.29571429e-02 1.71428571e-03\n",
      " 0.00000000e+00 0.00000000e+00 0.00000000e+00 0.00000000e+00]\n"
     ]
    }
   ],
   "source": [
    "# Calculating translation vector b\n",
    "data_center = np.mean(data_row_vectors, axis=0)\n",
    "\n",
    "print(data_center.shape)\n",
    "image_center = [width/2, height/2]\n",
    "\n",
    "b_x = data_center - image_center[0]\n",
    "b_y = data_center - image_center[1]\n",
    "b = np.column_stack((b_x, b_y)) # add 2 dimensions\n",
    "print('translation vector shape: ', b.shape)\n",
    "\n",
    "translated_row_vectors = np.empty_like(data_row_vectors)\n",
    "\n",
    "# Applying translation to each entry\n",
    "for i in range(data_row_vectors.shape[0]):\n",
    "    translated_row_vectors[i] = data_row_vectors[i] - b[:, 0]  # x translation\n",
    "    translated_row_vectors[i] = data_row_vectors[i] - b[:, 1]  # y translation\n",
    "    \n",
    "print('translated data shape: ', translated_row_vectors.shape)\n",
    "%store translated_row_vectors"
   ]
  },
  {
   "cell_type": "markdown",
   "id": "0e442748-7f87-47fb-9064-42979e76a358",
   "metadata": {},
   "source": [
    "### __Plotting the Translated Digits__"
   ]
  },
  {
   "cell_type": "code",
   "execution_count": null,
   "id": "fe1d528e-5265-4499-95e0-b0155eb41dc0",
   "metadata": {},
   "outputs": [],
   "source": [
    "plot(data=translated_row_vectors, n_plots=10, digit_form=True)"
   ]
  },
  {
   "cell_type": "markdown",
   "id": "955aaf1e-262d-4b07-a3ec-b53f08ed2ef3",
   "metadata": {},
   "source": [
    "### __Running SVD on the Translated Data__"
   ]
  },
  {
   "cell_type": "code",
   "execution_count": null,
   "id": "4c2248d8-8854-4af6-b5aa-61335293b637",
   "metadata": {},
   "outputs": [],
   "source": [
    "U_translated, E_translated, Vt_translated = np.linalg.svd(translated_row_vectors, full_matrices=False)\n",
    "\n",
    "print('U matrix shape: ', U_translated.shape)\n",
    "print('E matrix shape: ', E_translated.shape)\n",
    "print('V transpose matrix shape: ', Vt_translated.shape)"
   ]
  },
  {
   "cell_type": "markdown",
   "id": "acb9233e-7d8b-4250-8143-4ede1fcacc99",
   "metadata": {},
   "source": [
    "### __Plotting the Translated Singular Values__"
   ]
  },
  {
   "cell_type": "code",
   "execution_count": null,
   "id": "7a07c797-d7c6-49bf-9566-a6f82cb1773e",
   "metadata": {},
   "outputs": [],
   "source": [
    "plot(data=E_translated, n_plots=1)"
   ]
  },
  {
   "cell_type": "markdown",
   "id": "8c32697a-4923-40fd-8438-9510668ff496",
   "metadata": {},
   "source": [
    "#### The translated image singular values have a steeper, faster drop-off than the non-translated images in a linear plot"
   ]
  },
  {
   "cell_type": "code",
   "execution_count": null,
   "id": "9c14e703-8c5f-473e-be4b-f670ebbb19ed",
   "metadata": {},
   "outputs": [],
   "source": [
    "plot(data=E_translated, n_plots=2)"
   ]
  },
  {
   "cell_type": "markdown",
   "id": "79618d8e-12c2-4722-a883-eb79ea2a2d8b",
   "metadata": {},
   "source": [
    "#### Semi-log plot for translated image singular values looks similar to the non-translated singular values"
   ]
  },
  {
   "cell_type": "markdown",
   "id": "21cb2c8e-f7d4-4c0e-b490-493ef0383cb0",
   "metadata": {},
   "source": [
    "### __Comparing the SVD-Reduced Images__"
   ]
  },
  {
   "cell_type": "code",
   "execution_count": null,
   "id": "aabc60ba-8849-4fef-9150-4c730f29b1c6",
   "metadata": {},
   "outputs": [],
   "source": [
    "plot(data=translated_row_vectors, n_plots=-1, digit_form=False, reconstruct=True, U=U_translated, E=E_translated, V_t=Vt_translated)"
   ]
  },
  {
   "cell_type": "markdown",
   "id": "b241aaa1-b767-4e25-82ea-94dd2c4b9bfe",
   "metadata": {},
   "source": [
    "# __Non-Linear Transformation__"
   ]
  },
  {
   "cell_type": "markdown",
   "id": "f20c0c2a-d818-40c2-8140-624db07b3743",
   "metadata": {},
   "source": [
    "$$\n",
    "f(x) = \\begin{cases} \n",
    "0 & \\text{if } x \\leq 0 \\\\\n",
    "1 & \\text{if } x > 0 \n",
    "\\end{cases}\n",
    "$$\n",
    "\n",
    "Here we set each value that is greater than 0 to equal 1."
   ]
  },
  {
   "cell_type": "code",
   "execution_count": null,
   "id": "fcf3caa6-cab5-489a-9d2c-80ce1d7197b9",
   "metadata": {},
   "outputs": [],
   "source": [
    "transformed_data = np.where(data_row_vectors > 0, 1, 0)"
   ]
  },
  {
   "cell_type": "markdown",
   "id": "0b276257-4c4b-415f-a305-2e98b0d55ef7",
   "metadata": {},
   "source": [
    "#### SVD"
   ]
  },
  {
   "cell_type": "code",
   "execution_count": null,
   "id": "d2f334da-9c71-494d-a161-a74ca3ae3913",
   "metadata": {},
   "outputs": [],
   "source": [
    "U_transformed, E_transformed, Vt_transformed = np.linalg.svd(transformed_data, full_matrices=False)\n",
    "\n",
    "print('U shape: ', U_transformed.shape)\n",
    "print('E shape: ', E_transformed.shape)\n",
    "print('Vt shape: ', Vt_transformed.shape)"
   ]
  },
  {
   "cell_type": "markdown",
   "id": "7ba80c5f-7b16-4184-929c-1f519e94c39b",
   "metadata": {},
   "source": [
    "### Plotting the singular values"
   ]
  },
  {
   "cell_type": "code",
   "execution_count": null,
   "id": "75e99ca4-223e-42d6-a1b3-f7726fe9419d",
   "metadata": {},
   "outputs": [],
   "source": [
    "plot(data=E_transformed, n_plots=1)"
   ]
  },
  {
   "cell_type": "code",
   "execution_count": null,
   "id": "b61634e7-91ee-4802-bd26-4832a3144814",
   "metadata": {},
   "outputs": [],
   "source": [
    "plot(data=E, n_plots=1)"
   ]
  }
 ],
 "metadata": {
  "kernelspec": {
   "display_name": "venv",
   "language": "python",
   "name": "python3"
  },
  "language_info": {
   "codemirror_mode": {
    "name": "ipython",
    "version": 3
   },
   "file_extension": ".py",
   "mimetype": "text/x-python",
   "name": "python",
   "nbconvert_exporter": "python",
   "pygments_lexer": "ipython3",
   "version": "3.10.6"
  },
  "vscode": {
   "interpreter": {
    "hash": "86cc5682c1e0ebcefafed12af64c2202d3da3d8cee5df2a2530d2cd5a4833d18"
   }
  }
 },
 "nbformat": 4,
 "nbformat_minor": 5
}
